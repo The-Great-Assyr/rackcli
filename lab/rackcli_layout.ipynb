{
 "cells": [
  {
   "cell_type": "markdown",
   "metadata": {},
   "source": [
    "### rackcli layout - h4x VCV Rack layout management for patches\n",
    "\n",
    "VCV Rack stores patches in JSON files, that's the good news. The not so good news is they're stored in the order they were added to the patch with ordinal cross references between modules and wires. This exercise is all about codifying some basic layout management services to facilitate patch construction and maintenance. As Rack matures, many of these capabilities will surely be added.\n",
    "\n",
    "This exercise assumes your patch has plugin module width data, either from the `File.Save/SaveAs` in my \n",
    "[fork](https://github.com/dirkleas/Rack) or clicking `patch` button on \n",
    "[DLwigglz r4xH4x](https://github.com/dirkleas/DLwigglz) and using `patch.json` instead of `_layout.vcv` -- you don't need a \n",
    "full `catalog.json` for this since we're not dynamically adding plugin modules to the patch, only reorgaizing them. Don't miss the companion [video](https://www.youtube.com/watch?v=ZTS-T8-mn1c)!"
   ]
  },
  {
   "cell_type": "code",
   "execution_count": 1,
   "metadata": {},
   "outputs": [],
   "source": [
    "from typing import *\n",
    "from pprint import pprint as pp\n",
    "import json, re, copy"
   ]
  },
  {
   "cell_type": "markdown",
   "metadata": {},
   "source": [
    "Lets start our layout experiment with left and right alignment."
   ]
  },
  {
   "cell_type": "code",
   "execution_count": 2,
   "metadata": {
    "scrolled": false
   },
   "outputs": [
    {
     "name": "stdout",
     "output_type": "stream",
     "text": [
      "{0: [[3, 1, 270], [29, 2, 90], [85, 0, 150]], 1: [[34, 3, 150], [54, 5, 150], [66, 4, 120], [78, 6, 90]]} 1440\n",
      "{0: [[0, 1, 270], [18, 2, 90], [24, 0, 150]], 1: [[61, 3, 150], [71, 5, 150], [81, 4, 120], [89, 6, 90]]} 1440\n"
     ]
    }
   ],
   "source": [
    "rackdir = '/Users/dirkleas/Desktop/h4x/_queue_/vcv/Rack'\n",
    "\n",
    "catalog = json.load(open(rackdir + '/catalog.json'))\n",
    "patch = json.load(open(rackdir + '/_layout.vcv'))\n",
    "\n",
    "def hp(pixels: int) -> int:\n",
    "    'convert pixels to hp'\n",
    "    return(pixels / 15)\n",
    "\n",
    "def layout(patch: Dict) -> Dict[int, List]:\n",
    "    'generate ordered layout model for patch with column, ordinal, width'\n",
    "    layout = {}\n",
    "    for i,m in enumerate(patch['modules']): layout.setdefault(m['pos'][1], []).append([m['pos'][0], i, m['width']])\n",
    "    return({k:sorted(v, key=lambda x: x[0]) for (k,v) in layout.items()})\n",
    "\n",
    "pl = layout(patch)\n",
    "print(pl, catalog['width'])\n",
    "\n",
    "def align_left(layout: Dict[int, List], rows: List, start: int=0) -> Dict[int, List]:\n",
    "    'left-align row modules on specified rows with optional 0-offset starting module, use slicing once available'\n",
    "    for r in rows:\n",
    "        sum = 0 if start == 0 else layout[r][start-1][2] + (15*layout[r][start-1][0])\n",
    "        for m in layout[r][start:]:\n",
    "            m[0] = int(hp(sum))\n",
    "            sum += m[2]\n",
    "    return(layout)\n",
    "\n",
    "def align_right(layout: Dict[int, List], rows: List, max_width, start: int=0) -> Dict[int, List]:\n",
    "    'left-align row modules on specified rows with optional 0-offset starting module, use slicing once available'\n",
    "    for r in rows:\n",
    "        sum = max_width - 15 # allow 1HP for scrollbar\n",
    "        for m in layout[r][:None if start==0 else start-1:-1]:\n",
    "            m[0] = int(hp(sum)) - int(hp(m[2]))\n",
    "            sum -= m[2]\n",
    "    return(layout)\n",
    "\n",
    "pl = align_left(pl, [0,])\n",
    "pl = align_right(pl, [1,], catalog['width'])\n",
    "# pl = align_left(pl, [0,], 1) # shift from 1th item on\n",
    "# pl = align_right(pl, [1,], catalog['width'], 1)\n",
    "print(pl, catalog['width'])\n",
    "\n",
    "def apply_layout(layout: Dict, patch: Dict) -> Dict:\n",
    "    for r in layout.values():\n",
    "        for c in r: patch['modules'][c[1]]['pos'][0] = c[0]\n",
    "    return(patch)\n",
    "\n",
    "json.dump(apply_layout(pl, patch), open(rackdir + '/_layout2.vcv', 'w'), indent=2, ensure_ascii=False)"
   ]
  },
  {
   "cell_type": "markdown",
   "metadata": {},
   "source": [
    "Slicing allows us to specify a subset of modules in a patch by row. Our simplified slicing syntax is as follows: `ROW[START_COLUMN:END_COLUMN]` where `ROW` is required, and `START_COLUMN` and `END_COLUMN` are optional. The square brackets and colon are always required. Slices are typically specified in a list, and always passed as individual strings. Here is an example of a list of slices:\n",
    "\n",
    "`['0[1:5]', '0[:]', '0[:3]', '0[5:]', '0[:-3]', '0[-4:-2]']`\n",
    "\n",
    "Here's a convenience function for coverting a list of slice strings to a list of three individual numbers. While slicing can be applied to any 2D list, we'll be slicing modules on the rows in our patches."
   ]
  },
  {
   "cell_type": "code",
   "execution_count": 3,
   "metadata": {},
   "outputs": [
    {
     "name": "stdout",
     "output_type": "stream",
     "text": [
      "rack: [[0, 1, 2, 3, 4, 5, 6, 7, 8, 9], []]\n",
      "slices: ['0[1:5]', '0[:]', '0[:3]', '0[5:]', '0[:-3]', '0[-4:-2]']\n",
      "slices: [[0, 1, 5], [0, None, None], [0, None, 3], [0, 5, None], [0, None, -3], [0, -4, -2]]\n",
      "rack slices:\n",
      "  [[1, 2, 3, 4], [0, 1, 2, 3, 4, 5, 6, 7, 8, 9], [0, 1, 2], [5, 6, 7, 8, 9], [0, 1, 2, 3, 4, 5, 6], [6, 7]]\n"
     ]
    }
   ],
   "source": [
    "def slicer(slices: List[str]) -> List[List]:\n",
    "    'covert list of slice strings to list slice-ready lists, base 0'\n",
    "    ss = []\n",
    "    for slice in slices:\n",
    "        ss.append(list(map(lambda d: int(d) if d.lstrip('-+').isdigit() else None, \n",
    "                           re.match(r'(\\d+)\\[(-?\\d*):(-?\\d*)]', slice).groups())))\n",
    "    return(ss)\n",
    "\n",
    "x = [list(range(10)),[]] # 2d rack grid\n",
    "slices = ['0[1:5]', '0[:]', '0[:3]', '0[5:]', '0[:-3]', '0[-4:-2]']\n",
    "print('rack:', x)\n",
    "print('slices:', slices)\n",
    "slices = slicer(slices)\n",
    "print('slices:', slices)\n",
    "print('rack slices:\\n ', list(map(lambda s: x[s[0]][s[1]:s[2]], slices)))"
   ]
  },
  {
   "cell_type": "markdown",
   "metadata": {},
   "source": [
    "Now that we can slice, we can implement import and export to facilitate the resuse of sub-patches. It's important to consider the ordinal values/references used for patch \"modules\" and \"wires\" references/cross-references. \"New\" patch fragments are subject to the following:\n",
    "\n",
    "1. same version\n",
    "1. ordinal extension (e.g. new modules appended to existing modules, and wires input|outputModuleId increased by ordinal offset)\n",
    "1. appropriately laid out on the rack grid.\n",
    "\n",
    "Here's an implementation of import and export, with slicing support on export. It's quite possible that an import will cause one or more modules to \"collide\" in your patch where one sits on top of others. If this happens, use one of the alignment functions above to fix the layout."
   ]
  },
  {
   "cell_type": "code",
   "execution_count": 4,
   "metadata": {
    "scrolled": false
   },
   "outputs": [
    {
     "data": {
      "text/plain": [
       "{'version': '0.6.1',\n",
       " 'lastMousePos': [60, 0],\n",
       " 'width': 1440,\n",
       " 'height': 878,\n",
       " 'modules': [{'plugin': 'DLwigglz',\n",
       "   'version': '0.6.0',\n",
       "   'model': 'DWLwigglz-r4xH4x',\n",
       "   'pos': [29, 0],\n",
       "   'width': 90,\n",
       "   'params': [{'paramId': 0, 'value': 0.0}, {'paramId': 1, 'value': 0.0}]},\n",
       "  {'plugin': 'Fundamental',\n",
       "   'version': '0.6.0',\n",
       "   'model': 'LFO',\n",
       "   'pos': [54, 1],\n",
       "   'width': 150,\n",
       "   'params': [{'paramId': 0, 'value': 1.0},\n",
       "    {'paramId': 1, 'value': 1.0},\n",
       "    {'paramId': 2, 'value': -1.0},\n",
       "    {'paramId': 3, 'value': 0.0},\n",
       "    {'paramId': 5, 'value': 0.5},\n",
       "    {'paramId': 4, 'value': 0.0},\n",
       "    {'paramId': 6, 'value': 0.0}]},\n",
       "  {'plugin': 'Fundamental',\n",
       "   'version': '0.6.0',\n",
       "   'model': 'VCF',\n",
       "   'pos': [66, 1],\n",
       "   'width': 120,\n",
       "   'params': [{'paramId': 0, 'value': 0.5},\n",
       "    {'paramId': 1, 'value': 0.5},\n",
       "    {'paramId': 2, 'value': 0.0},\n",
       "    {'paramId': 3, 'value': 0.0},\n",
       "    {'paramId': 4, 'value': 0.0}]}],\n",
       " 'wires': [{'color': {'r': 0.788235366,\n",
       "    'g': 0.717647076,\n",
       "    'b': 0.054901965,\n",
       "    'a': 1.0},\n",
       "   'outputModuleId': 1,\n",
       "   'outputId': 0,\n",
       "   'inputModuleId': 2,\n",
       "   'inputId': 1}]}"
      ]
     },
     "execution_count": 4,
     "metadata": {},
     "output_type": "execute_result"
    }
   ],
   "source": [
    "p1 = json.load(open(rackdir + '/imp1.vcv'))\n",
    "p2 = json.load(open(rackdir + '/imp2.vcv'))\n",
    "l1 = json.load(open(rackdir + '/_layout.vcv'))\n",
    "\n",
    "def import_patch(p1: Dict, p2: Dict) -> Dict:\n",
    "    'import p2 into p1, if module collisions occur, use align_*()'\n",
    "    if not p1['version'] == p2['version']: return(None)\n",
    "    ordinal_offset = len(p1['modules'])\n",
    "    for w in p2['wires']: w['inputModuleId'] += ordinal_offset; w['outputModuleId'] += ordinal_offset\n",
    "    p1['modules'] += p2['modules']; p1['wires'] += p2['wires']\n",
    "    return(p1)\n",
    "\n",
    "def export_patch(p: Dict, slices: List[Tuple[str]], filename: str) -> Dict:\n",
    "    'export patch slices where slice is (row, start_col, stop_col)'\n",
    "    p2 = copy.deepcopy(p); p2['modules'] = []; p2['wires'] = []\n",
    "    l = layout(p); ordinals = []\n",
    "    for s in slicer(slices): ordinals += [o[1] for o in l[s[0]][s[1]:s[2]]] # slice layout, keep ordinal\n",
    "    for o in ordinals: p2['modules'].append(p['modules'][o])\n",
    "    for w in p['wires']: # wires -- add in|outputModuleId both in ordinals\n",
    "        if w['inputModuleId'] in ordinals and w['outputModuleId'] in ordinals:\n",
    "            w['inputModuleId'] = ordinals.index(w['inputModuleId']) # adjust references\n",
    "            w['outputModuleId'] = ordinals.index(w['outputModuleId'])\n",
    "            p2['wires'].append(w)\n",
    "    json.dump(p2, open(filename, 'w'), indent=2, ensure_ascii=False)\n",
    "    return(p2)\n",
    "\n",
    "p3 = import_patch(p1, p2)\n",
    "json.dump(p3, open(rackdir + '/imp3.vcv', 'w'), indent=2, ensure_ascii=False)\n",
    "\n",
    "export_patch(l1, ['0[1:2]', '1[1:-1]'], rackdir + '/_layout_exp.vcv')"
   ]
  }
 ],
 "metadata": {
  "kernelspec": {
   "display_name": "Python 3",
   "language": "python",
   "name": "python3"
  },
  "language_info": {
   "codemirror_mode": {
    "name": "ipython",
    "version": 3
   },
   "file_extension": ".py",
   "mimetype": "text/x-python",
   "name": "python",
   "nbconvert_exporter": "python",
   "pygments_lexer": "ipython3",
   "version": "3.6.5"
  }
 },
 "nbformat": 4,
 "nbformat_minor": 2
}
