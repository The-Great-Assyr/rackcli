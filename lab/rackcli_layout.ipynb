{
 "cells": [
  {
   "cell_type": "markdown",
   "metadata": {},
   "source": [
    "### rackcli layout - h4x VCV Rack layout management for patches\n",
    "\n",
    "VCV Rack stores patches in JSON files, that's the good news. The not so good news is they're stored in the order they were added to the patch with ordinal cross references between modules and wires. This exercise is all about codifying some basic layout management services to facilitate patch construction and maintenance. As Rack matures, many of these capabilities will surely be added.\n",
    "\n",
    "This exercise assumes your patch has plugin module width data, either from the `File.Save/SaveAs` in my \n",
    "[fork](https://github.com/dirkleas/Rack) or clicking `patch` button on \n",
    "[DLwigglz r4xH4x](https://github.com/dirkleas/DLwigglz) and using `patch.json` instead of `_layout.vcv` -- you don't need a \n",
    "full `catalog.json` for this since we're not dynamically adding plugin modules to the patch, only reorgaizing them."
   ]
  },
  {
   "cell_type": "code",
   "execution_count": 1,
   "metadata": {},
   "outputs": [],
   "source": [
    "from typing import *\n",
    "import json"
   ]
  },
  {
   "cell_type": "markdown",
   "metadata": {},
   "source": [
    "It'd be handy to have a grid-centric model of the patch to facilitate traversal of the patch as it sits in the rack."
   ]
  },
  {
   "cell_type": "code",
   "execution_count": 2,
   "metadata": {
    "scrolled": false
   },
   "outputs": [
    {
     "name": "stdout",
     "output_type": "stream",
     "text": [
      "{0: [[3, 1, 270], [21, 2, 90], [27, 0, 150]], 1: [[16, 5, 150], [71, 3, 150], [81, 4, 120], [89, 6, 90]]} 1440\n",
      "{0: [[0, 1, 270], [18, 2, 90], [24, 0, 150]], 1: [[61, 5, 150], [71, 3, 150], [81, 4, 120], [89, 6, 90]]} 1440\n"
     ]
    }
   ],
   "source": [
    "rackdir = '/Users/dirkleas/Desktop/h4x/_queue_/vcv/Rack'\n",
    "patch = json.load(open(rackdir + '/_layout.vcv')) # copy patch.vcv to _layout.vcv or use catalog['width']\n",
    "\n",
    "# layout: {row: [col]} where instance is (col, ordinal), each patch module has pos(col, row)\n",
    "def hp(pixels: int) -> int:\n",
    "    'convert pixels to hp'\n",
    "    return(pixels / 15)\n",
    "\n",
    "def layout(patch: Dict) -> Dict[int, List]:\n",
    "    'generate ordered layout model for patch'\n",
    "    layout = {}\n",
    "    for i,m in enumerate(patch['modules']): layout.setdefault(m['pos'][1], []).append([m['pos'][0], i, m['width']])\n",
    "    return({k:sorted(v, key=lambda x: x[0]) for (k,v) in layout.items()})\n",
    "\n",
    "pl = layout(patch)\n",
    "print(pl, patch['width'])\n",
    "\n",
    "def align_left(layout: Dict[int, List], rows: List, start: int=0) -> Dict[int, List]:\n",
    "    'left-align row modules on specified rows with optional 0-offset starting module, use slicing once available'\n",
    "    for r in rows:\n",
    "        sum = 0 if start == 0 else layout[r][start-1][2] + (15*layout[r][start-1][0])\n",
    "        for m in layout[r][start:]:\n",
    "            m[0] = int(hp(sum))\n",
    "            sum += m[2]\n",
    "    return(layout)\n",
    "\n",
    "def align_right(layout: Dict[int, List], rows: List, max_width, start: int=0) -> Dict[int, List]:\n",
    "    'left-align row modules on specified rows with optional 0-offset starting module, use slicing once available'\n",
    "    for r in rows:\n",
    "        sum = max_width - 15 # allow 1HP for scrollbar\n",
    "        for m in layout[r][:None if start==0 else start-1:-1]:\n",
    "            m[0] = int(hp(sum)) - int(hp(m[2]))\n",
    "            sum -= m[2]\n",
    "    return(layout)\n",
    "\n",
    "pl = align_left(pl, [0,])\n",
    "pl = align_right(pl, [1,], patch['width'])\n",
    "# pl = align_left(pl, [0,], 1) # shift from 1th item on\n",
    "# pl = align_right(pl, [1,], patch['width'], 1)\n",
    "print(pl, patch['width'])\n",
    "\n",
    "def apply_layout(layout: Dict, patch: Dict) -> Dict:\n",
    "    for r in layout.values():\n",
    "        for c in r: patch['modules'][c[1]]['pos'][0] = c[0]\n",
    "    return(patch)\n",
    "\n",
    "json.dump(apply_layout(pl, patch), open(rackdir + '/_layout2.vcv', 'w'), indent=2, ensure_ascii=False)"
   ]
  }
 ],
 "metadata": {
  "kernelspec": {
   "display_name": "Python 3",
   "language": "python",
   "name": "python3"
  },
  "language_info": {
   "codemirror_mode": {
    "name": "ipython",
    "version": 3
   },
   "file_extension": ".py",
   "mimetype": "text/x-python",
   "name": "python",
   "nbconvert_exporter": "python",
   "pygments_lexer": "ipython3",
   "version": "3.6.5"
  }
 },
 "nbformat": 4,
 "nbformat_minor": 2
}
