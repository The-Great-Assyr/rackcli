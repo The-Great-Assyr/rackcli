{
 "cells": [
  {
   "cell_type": "markdown",
   "metadata": {},
   "source": [
    "### rackcli cloud - h4x VCV Rack partial metadata resolution via rackcli cloud\n",
    "\n",
    "There are two ways to generate a full `catalog.json` for your VCV Rack installed plugins: 1) use the `File.Catalog` menu option in my [VCV Rack fork](https://github.com/dirkleas/Rack), or 2) use my [DLwigglz plugin r4xH4x module]() `catalog (partial)` button along with the [rackcli cloud](https://github.com/dirkleas/rackcloud) service via [rackcli](https://github.com/dirkleas/rackcli). Here's the lowdown on 2).\n",
    "\n",
    "Workflow to get a full `catalog.json` without forking VCV Rack:\n",
    "\n",
    "1. one time: download and build or install the binary for DLwigglz\n",
    "1. one time: download and install rackcli\n",
    "1. add DLwigglz r4xH4x module to your patch, press `catalog (partial)` button\n",
    "1. patch `catalog.partial.json` via the [rackcloud](https://github.com/dirkleas/rackcloud) or a local full `catalog.json`\n",
    "\n",
    "Always use the fullly formed, recent `catalog.json` if your hacking project requires width data -- pretty much anything dealing with layout management or patch composition requires it."
   ]
  },
  {
   "cell_type": "markdown",
   "metadata": {},
   "source": [
    "Here's an example of what the `catalog.partial.json` (via `catalog (partial)` button on DLwigglz r4xH4x) and augmented patch files might look like. Sample output has been truncated for covenience -- this was generated from my plugins and I've purchased almost every official module and build/installed many others, last count, alost 100 plugins!"
   ]
  },
  {
   "cell_type": "code",
   "execution_count": 1,
   "metadata": {},
   "outputs": [],
   "source": [
    "from pprint import pprint as pp\n",
    "from typing import *\n",
    "from hashlib import sha256\n",
    "from itertools import islice\n",
    "from time import gmtime, strftime\n",
    "import json, boto3"
   ]
  },
  {
   "cell_type": "code",
   "execution_count": 2,
   "metadata": {
    "scrolled": false
   },
   "outputs": [],
   "source": [
    "rackdir = '/Users/dirkleas/Desktop/h4x/_queue_/vcv/Rack'\n",
    "catalog = json.load(open(rackdir + '/catalog.json'))\n",
    "partial = json.load(open(rackdir + '/catalog.partial.json')) # DLwigglz r4xHrx output\n",
    "patch = json.load(open(rackdir + '/dox.vcv'))"
   ]
  },
  {
   "cell_type": "markdown",
   "metadata": {},
   "source": [
    "For reference, here's how one can also interact with AWS [S3](https://aws.amazon.com/s3/) given appropriate rights using the python3 [boto3](https://boto3.readthedocs.io/en/latest/https://aws.amazon.com/s3/) library. Here's an example of accessing the shared corpus (again, assuming access rights -- you'll need to set up your own Amazon AWS account)."
   ]
  },
  {
   "cell_type": "code",
   "execution_count": 3,
   "metadata": {},
   "outputs": [],
   "source": [
    "obj = boto3.resource('s3').Object('rackcloud', 'corpus.test.json')\n",
    "x = json.loads(obj.get()['Body'].read().decode('utf-8')) # read/load corpus\n",
    "# pp(x)\n",
    "x[strftime(\"%Y-%m-%d %H:%M:%S\", gmtime())] = 'sup?!?!'\n",
    "\n",
    "# obj.put(Body=str.encode(json.dumps(x))) # write\n",
    "# pp(json.loads(obj.get()['Body'].read().decode('utf-8'))) # update corpus"
   ]
  },
  {
   "cell_type": "markdown",
   "metadata": {},
   "source": [
    "Here's the model for the cloud corpus of all know plugin modules."
   ]
  },
  {
   "cell_type": "code",
   "execution_count": 4,
   "metadata": {},
   "outputs": [
    {
     "name": "stdout",
     "output_type": "stream",
     "text": [
      "corpus model: {'0668e58ce7a7aa49b5583aac63a2d73b2b45cf1de20efa5dc7351c4216cdd44d': ('rv', 'ps', 'pv', 'ms', 69)}\n"
     ]
    }
   ],
   "source": [
    "corpus = {'sha256(rv,ps,pv,ms)': ('rv', 'ps', 'pv', 'ms', 69)}\n",
    "corpus = {'0668e58ce7a7aa49b5583aac63a2d73b2b45cf1de20efa5dc7351c4216cdd44d': ('rv', 'ps', 'pv', 'ms', 69)}\n",
    "print(f'corpus model: {corpus}')"
   ]
  },
  {
   "cell_type": "markdown",
   "metadata": {},
   "source": [
    "Now we can \"share\" our fully-formed `catalog.json` with the world via the cloud service (or manually with curl) -- let's see how to generate the appropriate share request. Remember, this assumes a `catalog.json` generated via the fork, complete with width data."
   ]
  },
  {
   "cell_type": "code",
   "execution_count": 5,
   "metadata": {
    "scrolled": false
   },
   "outputs": [],
   "source": [
    "def hash(rv: str, ps: str, pv: str, ms: str) -> str:\n",
    "    'hash rack version, plugin slug/version, model slug'\n",
    "    return(sha256(str.encode('{}|{}|{}|{}'.format(rv, ps, pv, ms))).hexdigest())\n",
    "\n",
    "def catalog_share_corpus(catalog: Dict) -> Dict[str, Tuple]:\n",
    "    'generate partial corpus from catalog for sharing with cloud, embed in rackcli'\n",
    "    return({hash(catalog['applicationVersion'], p['slug'], p['version'], m['slug']): \n",
    "            (catalog['applicationVersion'], p['slug'], p['version'], m['slug'], m['width']) \\\n",
    "            for p in catalog['plugins'] for m in p['models']})\n",
    "\n",
    "def patch_share_corpus(patch: Dict) -> Dict[str, Tuple]:\n",
    "    'corpus request from a \"r4xH4x patch\" patch, embed in rackcli'\n",
    "    return({hash(patch['version'], m['plugin'], m['version'], m['model']):\n",
    "            (patch['version'], m['plugin'], m['version'], m['model'], m['width']) for m in patch['modules']})\n",
    "\n",
    "corpus = catalog_share_corpus(catalog)\n",
    "# corpus = patch_share_corpus(patch)\n",
    "# pp(corpus)\n",
    "\n",
    "json.dump(corpus, open('/tmp/share.json', 'w'), indent=2, ensure_ascii=False) # serialize for curl\n",
    "# manual test: curl -X POST -H \"Content-Type: application/json\" -d @DATAFILE.JSON URL\n",
    "# curl -X POST -H \"Content-Type: application/json\" -d @/tmp/share.json https://9k564tm679.execute-api.us-east-1.amazonaws.com/dev/share | jq"
   ]
  },
  {
   "cell_type": "markdown",
   "metadata": {},
   "source": [
    "The **share** service for accepting catalog submissions accepts corpus models and merges them with the current shared corpus in the cloud. You **will be able to** submit this `cloud_share()` result to the cloud via `rackcli cloud --share` in an **upcoming rackcli release**.Here's are the merge mechanics."
   ]
  },
  {
   "cell_type": "code",
   "execution_count": 6,
   "metadata": {},
   "outputs": [
    {
     "name": "stdout",
     "output_type": "stream",
     "text": [
      "{'0668e58ce7a7aa49b5583aac63a2d73b2b45cf1de20efa5dc7351c4216cdd44d': ('0.6.1',\n",
      "                                                                      'Core',\n",
      "                                                                      '0.6.1',\n",
      "                                                                      'QuadMIDIToCVInterface',\n",
      "                                                                      150),\n",
      " '30adfcb6a93f91a428fbe18703a910d249ab41279f8907d9911e54b655b1e75d': ('0.6.1',\n",
      "                                                                      'Core',\n",
      "                                                                      '0.6.1',\n",
      "                                                                      'AudioInterface',\n",
      "                                                                      150),\n",
      " 'bb47a317a2fec46ea5b7190b6caa72c8f38be0b8cd33a6d5fcd1fdc3ec48bec3': ('0.6.1',\n",
      "                                                                      'Core',\n",
      "                                                                      '0.6.1',\n",
      "                                                                      'MIDIToCVInterface',\n",
      "                                                                      120)}\n",
      "{'0668e58ce7a7aa49b5583aac63a2d73b2b45cf1de20efa5dc7351c4216cdd44d': ('0.6.1',\n",
      "                                                                      'Core',\n",
      "                                                                      '0.6.1',\n",
      "                                                                      'QuadMIDIToCVInterface',\n",
      "                                                                      150),\n",
      " 'fb99fada893daf09dcb095d62b69c4f46e5f949fe1aff140a05769ff38011e8f': ('0.6.1',\n",
      "                                                                      'Core',\n",
      "                                                                      '0.6.1',\n",
      "                                                                      'MIDICCToCVInterface',\n",
      "                                                                      150),\n",
      " 'sha256(rv,ps,pv,ms)': ('rv', 3, 'pv', 'ms')}\n",
      "({'0668e58ce7a7aa49b5583aac63a2d73b2b45cf1de20efa5dc7351c4216cdd44d': ('0.6.1',\n",
      "                                                                       'Core',\n",
      "                                                                       '0.6.1',\n",
      "                                                                       'QuadMIDIToCVInterface',\n",
      "                                                                       150),\n",
      "  '30adfcb6a93f91a428fbe18703a910d249ab41279f8907d9911e54b655b1e75d': ('0.6.1',\n",
      "                                                                       'Core',\n",
      "                                                                       '0.6.1',\n",
      "                                                                       'AudioInterface',\n",
      "                                                                       150),\n",
      "  'bb47a317a2fec46ea5b7190b6caa72c8f38be0b8cd33a6d5fcd1fdc3ec48bec3': ('0.6.1',\n",
      "                                                                       'Core',\n",
      "                                                                       '0.6.1',\n",
      "                                                                       'MIDIToCVInterface',\n",
      "                                                                       120),\n",
      "  'fb99fada893daf09dcb095d62b69c4f46e5f949fe1aff140a05769ff38011e8f': ('0.6.1',\n",
      "                                                                       'Core',\n",
      "                                                                       '0.6.1',\n",
      "                                                                       'MIDICCToCVInterface',\n",
      "                                                                       150)},\n",
      " {'sha256(rv,ps,pv,ms)': ('rv', 3, 'pv', 'ms')})\n"
     ]
    }
   ],
   "source": [
    "def vet_share_corpus(c: List[Dict]) -> Tuple[Dict, Dict]:\n",
    "    'verify and return valid and invalid corpus request, len(key)==64 and is_corpus_tuple(value)'\n",
    "    def is_valid(v): return(len(v) == 5 and isinstance(v[0], str) and isinstance(v[1], str) and \n",
    "                            isinstance(v[2], str) and isinstance(v[3], str) and isinstance(v[4], int))\n",
    "    return({k:v for k,v in c.items() if len(k) == 64 and is_valid(v)}, \n",
    "           {k:v for k,v in c.items() if not len(k) == 64 or not is_valid(v)})\n",
    "\n",
    "def cloud_share(request, corpus):\n",
    "    'merge request into corpus returning updated corpus and errors, add crowd validation, deploy serverless'\n",
    "    request, errors = vet_share_corpus(request)\n",
    "    {k:v for k, v in request.items() if k in corpus.keys()} # only add new plugin modules\n",
    "    return({**corpus, **request}, errors)\n",
    "\n",
    "c = dict(islice(corpus.items(), 0, 3))\n",
    "r = {**dict(islice(corpus.items(), 2, 4)), **{'sha256(rv,ps,pv,ms)': ('rv', 3, 'pv', 'ms')}}\n",
    "pp(c)\n",
    "pp(r)\n",
    "pp(cloud_share(r, c))"
   ]
  },
  {
   "cell_type": "markdown",
   "metadata": {},
   "source": [
    "Here is the **sync** service wrapper (client and server) for looking up requested plugins in the cloud to \"fix\" your `catalog.partial.json`. It's possible that the requestor might have plugins installed that aren't known in the cloud corpus -- cloud_sync() will identify those as \"unknowns\" to be resolved appropriately."
   ]
  },
  {
   "cell_type": "code",
   "execution_count": 7,
   "metadata": {
    "scrolled": false
   },
   "outputs": [
    {
     "name": "stdout",
     "output_type": "stream",
     "text": [
      "corpus request model: ['hash1', 'hash2']\n",
      "True\n",
      "unknowns: ['d00dd00dd00dd00dd00dd00dd00dd00dd00dd00dd00dd00dd00dd00dd00dd00d']\n"
     ]
    }
   ],
   "source": [
    "request = ['hash1', 'hash2']\n",
    "print(f'corpus request model: {request}')\n",
    "\n",
    "def cloud_sync_partial_request(partial: Dict) -> List[str]:\n",
    "    'corpus request for your catalog.partial.json, embed in rackcli'\n",
    "    return([hash(catalog['applicationVersion'], p['slug'], p['version'], m['slug']) \\\n",
    "            for p in catalog['plugins'] for m in p['models']])\n",
    "\n",
    "def vet_sync_corpus(request: List[str]) -> bool:\n",
    "    return(all(isinstance(hash, str) and len(hash) == 64 for hash in request))\n",
    "\n",
    "request = cloud_sync_partial_request(partial) + ['d00d'*16,] # include corpus unknow\n",
    "pp(vet_sync_corpus(request))\n",
    "# pp(request)\n",
    "json.dump(request, open('/tmp/sync.json', 'w'), indent=2, ensure_ascii=False)\n",
    "\n",
    "def cloud_sync(request: List[str], corpus: Dict) -> Tuple[List, List]:\n",
    "    'request projected corpus and uknowns, deploy serverless'\n",
    "    if not vet_sync_corpus(request): return({}, request)\n",
    "    return(({k:v for k, v in corpus.items() if k in request}, \n",
    "           [r for r in request if not r in corpus.keys()]))\n",
    "\n",
    "sync = cloud_sync(request, corpus)\n",
    "print('unknowns:', sync[1])\n",
    "\n",
    "# json.dump(request, open('/tmp/sync.json', 'w'), indent=2, ensure_ascii=False) # serialize for curl\n",
    "# test: curl -X POST -H \"Content-Type: application/json\" -d @DATAFILE.JSON URL\n",
    "# curl -X POST -H \"Content-Type: application/json\" -d @/tmp/sync.json https://9k564tm679.execute-api.us-east-1.amazonaws.com/dev/sync | jq"
   ]
  },
  {
   "cell_type": "markdown",
   "metadata": {},
   "source": [
    "Lastly, let's \"fix\" our partial catalog with our response widths. \"Unknowns\" are currently ignored. This an cause issues if one later assumes all plugins have widths. Perhaps a prudent alternative would be to set \"unknown\"'s widths to an arbitrary values vs. so use cases accessing all plugin modules and assuming a valid width value will \"sorta\" work. If said arbitrary default was less than the actual width, the module might appear in a patch as trucated or overlaid by another module.\n",
    "\n",
    "If you're satisfied with the fixer() output, you could save it to `catalog.json` based on this processing of your `catalog.partial.json`."
   ]
  },
  {
   "cell_type": "code",
   "execution_count": 8,
   "metadata": {
    "scrolled": false
   },
   "outputs": [],
   "source": [
    "def fixer(partial, sync):\n",
    "    'sync the partial with width metadata, igore unknowns'\n",
    "    for p in partial['plugins']:\n",
    "        for m in p['models']:\n",
    "            try: m['width'] = sync[0][hash(partial['applicationVersion'], p['slug'], p['version'], m['slug'])][4]\n",
    "            except: pass # ignore \"unknowns\", would an arbitrary default be \"better\"?\n",
    "    return(partial)\n",
    "\n",
    "# pp(partial)\n",
    "fixed = fixer(partial, sync)\n",
    "# pp(fixed)\n",
    "json.dump(fixed, open(rackdir + '/catalog.fixed.json', 'w'), indent=2, ensure_ascii=False)\n",
    "# pp(fixed[:3]) # diff catalog.json catalog.fixed.json proves match!"
   ]
  }
 ],
 "metadata": {
  "kernelspec": {
   "display_name": "Python 3",
   "language": "python",
   "name": "python3"
  },
  "language_info": {
   "codemirror_mode": {
    "name": "ipython",
    "version": 3
   },
   "file_extension": ".py",
   "mimetype": "text/x-python",
   "name": "python",
   "nbconvert_exporter": "python",
   "pygments_lexer": "ipython3",
   "version": "3.6.5"
  }
 },
 "nbformat": 4,
 "nbformat_minor": 2
}
