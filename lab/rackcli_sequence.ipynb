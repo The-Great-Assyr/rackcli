{
 "cells": [
  {
   "cell_type": "markdown",
   "metadata": {},
   "source": [
    "### rackcli sequence - h4x VCV Rack sequencing patches\n",
    "\n",
    "Here's a reasonable sequencing workflow for scenarios where you 1) want to be able to reason about non-trivial sequences almost instantly, 2) use various forms of sequence notation (tablature, notes, etc.), 3) try sequences on different plugin modules, and 4) change/reprogram sequencers as quickly as we can conceive them.  Of course there's also series of companion \n",
    "[videos](https://www.youtube.com/channel/UCv-mq6lyycCbvbQiZclik7Q)!\n",
    "\n",
    "The last is critical for me as I \"try\" to jam with my guitar playing friends who can tweak their rifs in real time and don't understand why it takes me so log to tweak my sequencers!\n",
    "\n",
    "Here's an initial attempt at programming a CV sequencer (I'll hit on trigger/gate sequecers in a bit) with two sequences of length four. I'll express the sequence in a very simple notation as follows, but they've been programmed interactively in a patch named `_seq.vcv` with a [PS-16](https://github.com/MarcBoule/ImpromptuModular#phrase-seq-16):\n",
    "\n",
    "```\n",
    "C C# D D#\n",
    "G# A A# B\n",
    "```\n",
    "\n",
    "Our goal it to replace it with's \"Twinkle Twinkle Little Star\" (TTLS):\n",
    "\n",
    "```\n",
    "C C G G A A G \"twinkle twinkle little star\"\n",
    "F F E E D D C \"how I wonder what you are\"\n",
    "G G F F E E D \"up above the world so high\"\n",
    "G G F F E E D \"like a diamond in the sky\"\n",
    "C C G G A A G \"twinkle twinkle little star\"\n",
    "F F E E D D C \"how I wonder what you are\"\n",
    "```\n",
    "\n",
    "You'll notice some repeats, so here's a more compact version -- we'll implement this in a later coversation:\n",
    "\n",
    "```\n",
    "C C G G A A G \"twinkle twinkle little star\"\n",
    "F F E E D D C \"how I wonder what you are\"\n",
    "G G F F E E D \"up above the world so high\"\n",
    "2:3 1 \"like a diamond in the sky\"\n",
    "0:2 2\n",
    "```\n",
    "\n",
    "Notice that if you have lyrics changing on sequence repititions, multiple quoted strings could be added on those lines. Of course, adding lyrics are for documentation only, as typical squencers can't sing along ... yet. ;-)\n",
    "\n",
    "Wanted to throw in comment on the range and potential of this h4x -- what else could we do?\n",
    "\n",
    "1. alternative notations (e.g. guitar tabs, percussion tabs, midi files, etc.)\n",
    "1. using a different rack sequencer, being able to a/b test several from the same notation\n",
    "1. support gate/trigger sequencers, not just cv sequencers\n",
    "1. other \"types\" of modules, like the various chord generators\n",
    "1. higher-order patching with support for supporting modules and their settings (e.g. add additional clocks, sequential switches, chaos, etc.)\n",
    "\n",
    "Basically, any module that has superpowers and has a bit of a programming curve is a great candidate for this kind of h4x!"
   ]
  },
  {
   "cell_type": "code",
   "execution_count": 1,
   "metadata": {},
   "outputs": [],
   "source": [
    "from pprint import pprint as pp\n",
    "from typing import List, Dict\n",
    "import json"
   ]
  },
  {
   "cell_type": "code",
   "execution_count": 2,
   "metadata": {
    "scrolled": false
   },
   "outputs": [],
   "source": [
    "rackdir = '/Users/dirkleas/Desktop/h4x/_queue_/vcv/Rack'\n",
    "patch = json.load(open(rackdir + '/_seq.vcv')) # two sequeces of length 4\n",
    "# pp(patch['modules'][0])"
   ]
  },
  {
   "cell_type": "markdown",
   "metadata": {},
   "source": [
    "Start with some basic CV/note support."
   ]
  },
  {
   "cell_type": "code",
   "execution_count": 3,
   "metadata": {},
   "outputs": [],
   "source": [
    "note_offset = 1.0 / 12.0\n",
    "note_multiple = {'c':0, 'c#':1, 'db':1, 'd':2, 'd#':3, 'eb':3, 'e':4, 'f':5, \n",
    "                   'f#':6, 'gb':6, 'g':7, 'g#':8, 'ab':8, 'a':9, 'a#bb':10, 'b':11}\n",
    "notes = ['c', 'c#', 'd', 'd#', 'e', 'f', 'f#', 'g', 'g#', 'a', 'a#', 'b']\n",
    "\n",
    "def toCV(note: str) -> float:\n",
    "    'covert note to cv'\n",
    "    note = note.strip().lower()\n",
    "    octave = 0\n",
    "    if len(note) > 1 and note[1].isdigit(): # todo: add range check\n",
    "        octave = - (4 - int(note[1]))\n",
    "        note = note[:1] + note[(2):]\n",
    "    try: return(note_multiple[note] * note_offset + octave)\n",
    "    except: return None\n",
    "\n",
    "def toNote(cv: float, sharpy: bool=True) -> str: # todo: add non-sharpy\n",
    "    note, octave = notes[round((cv - int(cv)) / note_offset)], str(4 + int(cv))\n",
    "    octave = octave if not octave == '4' else ''\n",
    "    return(note if not octave else note[0] + octave + note[1:])\n",
    "\n",
    "# n1 = ['c', 'c#', 'db', 'd', 'c3', 'c5#']\n",
    "# cv = list(map(toCV, n1))\n",
    "# n2 = list(map(toNote, cv))\n",
    "# print(n1, cv, n2)"
   ]
  },
  {
   "cell_type": "markdown",
   "metadata": {},
   "source": [
    "Here's TTLS from above codified."
   ]
  },
  {
   "cell_type": "code",
   "execution_count": 4,
   "metadata": {},
   "outputs": [
    {
     "name": "stdout",
     "output_type": "stream",
     "text": [
      "notation: \n",
      "C C G G A A G \"twinkle twinkle little star\"\n",
      "F F E E D D C \"how I wonder what you are\"\n",
      "G G F F E E D \"up above the world so high\"\n",
      "G G F F E E D \"like a diamond in the sky\"\n",
      "C C G G A A G \"twinkle twinkle little star\"\n",
      "F F E E D D C \"how I wonder what you are\"\n",
      "\n",
      "parse/remove lyrics:\n",
      "[['C', 'C', 'G', 'G', 'A', 'A', 'G'],\n",
      " ['F', 'F', 'E', 'E', 'D', 'D', 'C'],\n",
      " ['G', 'G', 'F', 'F', 'E', 'E', 'D'],\n",
      " ['G', 'G', 'F', 'F', 'E', 'E', 'D'],\n",
      " ['C', 'C', 'G', 'G', 'A', 'A', 'G'],\n",
      " ['F', 'F', 'E', 'E', 'D', 'D', 'C']]\n",
      "\n",
      "ttls cv:\n",
      " [[0.0, 0.0, 0.5833333333333333, 0.5833333333333333, 0.75, 0.75, 0.5833333333333333], [0.41666666666666663, 0.41666666666666663, 0.3333333333333333, 0.3333333333333333, 0.16666666666666666, 0.16666666666666666, 0.0], [0.5833333333333333, 0.5833333333333333, 0.41666666666666663, 0.41666666666666663, 0.3333333333333333, 0.3333333333333333, 0.16666666666666666], [0.5833333333333333, 0.5833333333333333, 0.41666666666666663, 0.41666666666666663, 0.3333333333333333, 0.3333333333333333, 0.16666666666666666], [0.0, 0.0, 0.5833333333333333, 0.5833333333333333, 0.75, 0.75, 0.5833333333333333], [0.41666666666666663, 0.41666666666666663, 0.3333333333333333, 0.3333333333333333, 0.16666666666666666, 0.16666666666666666, 0.0]]\n"
     ]
    }
   ],
   "source": [
    "ttls = '''\n",
    "C C G G A A G \"twinkle twinkle little star\"\n",
    "F F E E D D C \"how I wonder what you are\"\n",
    "G G F F E E D \"up above the world so high\"\n",
    "G G F F E E D \"like a diamond in the sky\"\n",
    "C C G G A A G \"twinkle twinkle little star\"\n",
    "F F E E D D C \"how I wonder what you are\"\n",
    "'''\n",
    "\n",
    "def parse_notation(notation: str) -> (List[List[str]], List[List[float]]) :\n",
    "    'convert notation (C C# \"lyrics\") to note and cv data'\n",
    "    notes = [s.split('\"')[0].strip().split() for s in ttls.split('\\n') if s]\n",
    "    return(notes, [[toCV(n) for n in s] for s in notes])\n",
    "           \n",
    "print('notation:', ttls)\n",
    "ttls, ttls_cv = parse_notation(ttls)\n",
    "print('parse/remove lyrics:'); pp(ttls)\n",
    "print('\\nttls cv:\\n', ttls_cv)"
   ]
  },
  {
   "cell_type": "markdown",
   "metadata": {},
   "source": [
    "Let's drill down into the CV note data. As usual, we'll assume C4 (middle C) is octave offset zero. , and the offset goes negative or positive to go either direction. Notationally, C = C4, C# = C4#, etc., but for convenience, the octave can be left off in the 4th octave. It's important to know sequence lengths!"
   ]
  },
  {
   "cell_type": "code",
   "execution_count": 5,
   "metadata": {
    "scrolled": true
   },
   "outputs": [
    {
     "name": "stdout",
     "output_type": "stream",
     "text": [
      "lengths: 4 4 \n",
      " [0.0, 0.0833333358, 0.166666672, 0.25, 0.0, 0.0, 0.0, 0.0, 0.0, 0.0, 0.0, 0.0, 0.0, 0.0, 0.0, 0.0, 0.666666687, 0.75, 0.833333373, 0.916666687, 0.0, 0.0, 0.0, 0.0, 0.0, 0.0, 0.0, 0.0, 0.0, 0.0, 0.0, 0.0, 0.0, 0.0, 0.0, 0.0, 0.0, 0.0, 0.0, 0.0, 0.0, 0.0, 0.0, 0.0, 0.0, 0.0, 0.0, 0.0, 0.0, 0.0, 0.0, 0.0, 0.0, 0.0, 0.0, 0.0, 0.0, 0.0, 0.0, 0.0, 0.0, 0.0, 0.0, 0.0, 0.0, 0.0, 0.0, 0.0, 0.0, 0.0, 0.0, 0.0, 0.0, 0.0, 0.0, 0.0, 0.0, 0.0, 0.0, 0.0, 0.0, 0.0, 0.0, 0.0, 0.0, 0.0, 0.0, 0.0, 0.0, 0.0, 0.0, 0.0, 0.0, 0.0, 0.0, 0.0, 0.0, 0.0, 0.0, 0.0, 0.0, 0.0, 0.0, 0.0, 0.0, 0.0, 0.0, 0.0, 0.0, 0.0, 0.0, 0.0, 0.0, 0.0, 0.0, 0.0, 0.0, 0.0, 0.0, 0.0, 0.0, 0.0, 0.0, 0.0, 0.0, 0.0, 0.0, 0.0, 0.0, 0.0, 0.0, 0.0, 0.0, 0.0, 0.0, 0.0, 0.0, 0.0, 0.0, 0.0, 0.0, 0.0, 0.0, 0.0, 0.0, 0.0, 0.0, 0.0, 0.0, 0.0, 0.0, 0.0, 0.0, 0.0, 0.0, 0.0, 0.0, 0.0, 0.0, 0.0, 0.0, 0.0, 0.0, 0.0, 0.0, 0.0, 0.0, 0.0, 0.0, 0.0, 0.0, 0.0, 0.0, 0.0, 0.0, 0.0, 0.0, 0.0, 0.0, 0.0, 0.0, 0.0, 0.0, 0.0, 0.0, 0.0, 0.0, 0.0, 0.0, 0.0, 0.0, 0.0, 0.0, 0.0, 0.0, 0.0, 0.0, 0.0, 0.0, 0.0, 0.0, 0.0, 0.0, 0.0, 0.0, 0.0, 0.0, 0.0, 0.0, 0.0, 0.0, 0.0, 0.0, 0.0, 0.0, 0.0, 0.0, 0.0, 0.0, 0.0, 0.0, 0.0, 0.0, 0.0, 0.0, 0.0, 0.0, 0.0, 0.0, 0.0, 0.0, 0.0, 0.0, 0.0, 0.0, 0.0, 0.0, 0.0, 0.0, 0.0, 0.0, 0.0, 0.0, 0.0, 0.0, 0.0, 0.0, 0.0, 0.0, 0.0, 0.0, 0.0, 0.0, 0.0, 0.0, 0.0]\n"
     ]
    }
   ],
   "source": [
    "patch = json.load(open(rackdir + '/_seq.vcv')) # original two sequeces of length 4\n",
    "cv = patch['modules'][0]['data']['cv']\n",
    "print('lengths:', patch['modules'][0]['data']['steps'], patch['modules'][0]['data']['phrases'], '\\n', cv)"
   ]
  },
  {
   "cell_type": "markdown",
   "metadata": {},
   "source": [
    "Now let's h4x the patch with some TTLS -- saved as new patch (for comparison), so open `seq2.vcv` and enjoy! You'll have to manually iterate through the sequences, but that easily be added it the next round of h4x!"
   ]
  },
  {
   "cell_type": "code",
   "execution_count": 6,
   "metadata": {},
   "outputs": [
    {
     "name": "stdout",
     "output_type": "stream",
     "text": [
      "lengths: 7 6 \n",
      " [0.0, 0.0, 0.5833333333333333, 0.5833333333333333, 0.75, 0.75, 0.5833333333333333, 0.0, 0.0, 0.0, 0.0, 0.0, 0.0, 0.0, 0.0, 0.0, 0.41666666666666663, 0.41666666666666663, 0.3333333333333333, 0.3333333333333333, 0.16666666666666666, 0.16666666666666666, 0.0, 0.0, 0.0, 0.0, 0.0, 0.0, 0.0, 0.0, 0.0, 0.0, 0.5833333333333333, 0.5833333333333333, 0.41666666666666663, 0.41666666666666663, 0.3333333333333333, 0.3333333333333333, 0.16666666666666666, 0.0, 0.0, 0.0, 0.0, 0.0, 0.0, 0.0, 0.0, 0.0, 0.5833333333333333, 0.5833333333333333, 0.41666666666666663, 0.41666666666666663, 0.3333333333333333, 0.3333333333333333, 0.16666666666666666, 0.0, 0.0, 0.0, 0.0, 0.0, 0.0, 0.0, 0.0, 0.0, 0.0, 0.0, 0.5833333333333333, 0.5833333333333333, 0.75, 0.75, 0.5833333333333333, 0.0, 0.0, 0.0, 0.0, 0.0, 0.0, 0.0, 0.0, 0.0, 0.41666666666666663, 0.41666666666666663, 0.3333333333333333, 0.3333333333333333, 0.16666666666666666, 0.16666666666666666, 0.0, 0.0, 0.0, 0.0, 0.0, 0.0, 0.0, 0.0, 0.0, 0.0, 0.0, 0.0, 0.0, 0.0, 0.0, 0.0, 0.0, 0.0, 0.0, 0.0, 0.0, 0.0, 0.0, 0.0, 0.0, 0.0, 0.0, 0.0, 0.0, 0.0, 0.0, 0.0, 0.0, 0.0, 0.0, 0.0, 0.0, 0.0, 0.0, 0.0, 0.0, 0.0, 0.0, 0.0, 0.0, 0.0, 0.0, 0.0, 0.0, 0.0, 0.0, 0.0, 0.0, 0.0, 0.0, 0.0, 0.0, 0.0, 0.0, 0.0, 0.0, 0.0, 0.0, 0.0, 0.0, 0.0, 0.0, 0.0, 0.0, 0.0, 0.0, 0.0, 0.0, 0.0, 0.0, 0.0, 0.0, 0.0, 0.0, 0.0, 0.0, 0.0, 0.0, 0.0, 0.0, 0.0, 0.0, 0.0, 0.0, 0.0, 0.0, 0.0, 0.0, 0.0, 0.0, 0.0, 0.0, 0.0, 0.0, 0.0, 0.0, 0.0, 0.0, 0.0, 0.0, 0.0, 0.0, 0.0, 0.0, 0.0, 0.0, 0.0, 0.0, 0.0, 0.0, 0.0, 0.0, 0.0, 0.0, 0.0, 0.0, 0.0, 0.0, 0.0, 0.0, 0.0, 0.0, 0.0, 0.0, 0.0, 0.0, 0.0, 0.0, 0.0, 0.0, 0.0, 0.0, 0.0, 0.0, 0.0, 0.0, 0.0, 0.0, 0.0, 0.0, 0.0, 0.0, 0.0, 0.0, 0.0, 0.0, 0.0, 0.0, 0.0, 0.0, 0.0, 0.0, 0.0, 0.0, 0.0, 0.0, 0.0, 0.0, 0.0, 0.0, 0.0, 0.0, 0.0, 0.0, 0.0] [0, 1, 2, 3, 4, 5, 0, 0, 0, 0, 0, 0, 0, 0, 0, 0]\n"
     ]
    }
   ],
   "source": [
    "def patch_sequencer(patch: Dict, cv: List[float], verbose: bool=False) -> None:\n",
    "    'patch sequencer by updating patch with notational cv'\n",
    "    patch['modules'][0]['data']['cv'] = [0.0] * 256 # clear sequences\n",
    "    patch['modules'][0]['data']['phrase'] = [0] * 16 # clear phrases\n",
    "    for i, s in enumerate(cv): patch['modules'][0]['data']['cv'][i*16:i*16+len(cv[0])] = s # sequences\n",
    "    patch['modules'][0]['data']['phrase'][0:len(cv)] = range(0, len(cv))\n",
    "    patch['modules'][0]['data']['steps'] = len(cv[0]) # steps\n",
    "    patch['modules'][0]['data']['phrases'] = len(cv) # phrases\n",
    "    json.dump(patch, open(rackdir + '/_seq2.vcv', 'w'), indent=2, ensure_ascii=False) # ttls ftw!\n",
    "    if verbose:\n",
    "        print('lengths:', patch['modules'][0]['data']['steps'], patch['modules'][0]['data']['phrases'], '\\n', \n",
    "              patch['modules'][0]['data']['cv'], patch['modules'][0]['data']['phrase'])\n",
    "\n",
    "patch_sequencer(patch, ttls_cv, verbose=True)"
   ]
  },
  {
   "cell_type": "markdown",
   "metadata": {},
   "source": [
    "How about a different sequencer?"
   ]
  },
  {
   "cell_type": "code",
   "execution_count": 7,
   "metadata": {
    "scrolled": false
   },
   "outputs": [
    {
     "name": "stdout",
     "output_type": "stream",
     "text": [
      "{'plugin': 'AS', 'version': '0.6.7', 'model': 'SEQ16', 'pos': [12, 0], 'width': 660, 'params': [{'paramId': 0, 'value': 2.0}, {'paramId': 1, 'value': 0.0}, {'paramId': 2, 'value': 0.0}, {'paramId': 4, 'value': 0.0}, {'paramId': 5, 'value': 0.0}, {'paramId': 6, 'value': 0.0}, {'paramId': 7, 'value': 0.0}, {'paramId': 3, 'value': 7}, {'paramId': 8, 'value': 0.0}, {'paramId': 24, 'value': 0.41666666666666663}, {'paramId': 40, 'value': 0.5833333333333333}, {'paramId': 56, 'value': 0.5833333333333333}, {'paramId': 9, 'value': 0.0}, {'paramId': 25, 'value': 0.41666666666666663}, {'paramId': 41, 'value': 0.5833333333333333}, {'paramId': 57, 'value': 0.5833333333333333}, {'paramId': 10, 'value': 0.5833333333333333}, {'paramId': 26, 'value': 0.3333333333333333}, {'paramId': 42, 'value': 0.41666666666666663}, {'paramId': 58, 'value': 0.41666666666666663}, {'paramId': 11, 'value': 0.5833333333333333}, {'paramId': 27, 'value': 0.3333333333333333}, {'paramId': 43, 'value': 0.41666666666666663}, {'paramId': 59, 'value': 0.41666666666666663}, {'paramId': 12, 'value': 0.75}, {'paramId': 28, 'value': 0.16666666666666666}, {'paramId': 44, 'value': 0.3333333333333333}, {'paramId': 60, 'value': 0.3333333333333333}, {'paramId': 13, 'value': 0.75}, {'paramId': 29, 'value': 0.16666666666666666}, {'paramId': 45, 'value': 0.3333333333333333}, {'paramId': 61, 'value': 0.3333333333333333}, {'paramId': 14, 'value': 0.5833333333333333}, {'paramId': 30, 'value': 0.0}, {'paramId': 46, 'value': 0.16666666666666666}, {'paramId': 62, 'value': 0.16666666666666666}, {'paramId': 15, 'value': 0.0}, {'paramId': 31, 'value': 0.0}, {'paramId': 47, 'value': 0.0}, {'paramId': 63, 'value': 0.0}, {'paramId': 16, 'value': 0.0}, {'paramId': 32, 'value': 0.0}, {'paramId': 48, 'value': 0.0}, {'paramId': 64, 'value': 0.0}, {'paramId': 17, 'value': 0.0}, {'paramId': 33, 'value': 0.0}, {'paramId': 49, 'value': 0.0}, {'paramId': 65, 'value': 0.0}, {'paramId': 18, 'value': 0.0}, {'paramId': 34, 'value': 0.0}, {'paramId': 50, 'value': 0.0}, {'paramId': 66, 'value': 0.0}, {'paramId': 19, 'value': 0.0}, {'paramId': 35, 'value': 0.0}, {'paramId': 51, 'value': 0.0}, {'paramId': 67, 'value': 0.0}, {'paramId': 20, 'value': 0.0}, {'paramId': 36, 'value': 0.0}, {'paramId': 52, 'value': 0.0}, {'paramId': 68, 'value': 0.0}, {'paramId': 21, 'value': 0.0}, {'paramId': 37, 'value': 0.0}, {'paramId': 53, 'value': 0.0}, {'paramId': 69, 'value': 0.0}, {'paramId': 22, 'value': 0.0}, {'paramId': 38, 'value': 0.0}, {'paramId': 54, 'value': 0.0}, {'paramId': 70, 'value': 0.0}, {'paramId': 23, 'value': 0.0}, {'paramId': 39, 'value': 0.0}, {'paramId': 55, 'value': 0.0}, {'paramId': 71, 'value': 0.0}], 'data': {'running': False, 'gates': [1, 1, 1, 1, 1, 1, 1, 1, 1, 1, 1, 1, 1, 1, 1, 1], 'gateMode': 0}}\n"
     ]
    }
   ],
   "source": [
    "# as seq16, paramId:3=>steps, rows 8..23,24..39,40..55 0..10, everything in params\n",
    "patch = json.load(open(rackdir + '/eraseme.vcv'))\n",
    "params = patch['modules'][0]['params']\n",
    "\n",
    "def param(x, val):\n",
    "    'set paramId x to value, return success truth'\n",
    "    try: [p for p in params if p['paramId'] == x][0]['value'] = val; return True\n",
    "    except: return False\n",
    "\n",
    "tls_cv = ttls_cv[:3] # only process first three sequences\n",
    "for p in range(8,56): param(p, 0.0) # clear cv\n",
    "for i, s in enumerate(ttls_cv): #patch['modules'][0]['data']['cv'][i*16:i*16+len(ttls_cv[0])] = s # sequences\n",
    "    for j, cv in enumerate(s):\n",
    "        param(i*16+8+j, cv)\n",
    "param(3, len(ttls_cv[0])) # update steps\n",
    "json.dump(patch, open(rackdir + '/eraseme2.vcv', 'w'), indent=2, ensure_ascii=False) # ttls ftw!\n",
    "print(patch['modules'][0])"
   ]
  }
 ],
 "metadata": {
  "kernelspec": {
   "display_name": "Python 3",
   "language": "python",
   "name": "python3"
  },
  "language_info": {
   "codemirror_mode": {
    "name": "ipython",
    "version": 3
   },
   "file_extension": ".py",
   "mimetype": "text/x-python",
   "name": "python",
   "nbconvert_exporter": "python",
   "pygments_lexer": "ipython3",
   "version": "3.6.5"
  }
 },
 "nbformat": 4,
 "nbformat_minor": 2
}
