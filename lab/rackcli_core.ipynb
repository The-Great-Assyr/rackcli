{
 "cells": [
  {
   "cell_type": "markdown",
   "metadata": {},
   "source": [
    "### rackcli - h4x VCV Rack core\n",
    "\n",
    "This is a collection of **rackcli** core/reusable services and utilities. You can include them via `%run rackcli_core.ipynb` magic at the beginning of other notebooks."
   ]
  },
  {
   "cell_type": "code",
   "execution_count": 1,
   "metadata": {},
   "outputs": [],
   "source": [
    "import psutil"
   ]
  },
  {
   "cell_type": "markdown",
   "metadata": {},
   "source": [
    "General Rack covenience functions."
   ]
  },
  {
   "cell_type": "code",
   "execution_count": 2,
   "metadata": {},
   "outputs": [],
   "source": [
    "def hp(pixels: int) -> int:\n",
    "    'convert pixels to hp'\n",
    "    return(int(pixels / 15))"
   ]
  },
  {
   "cell_type": "markdown",
   "metadata": {},
   "source": [
    "Some OS-level monitoring will help us ensure that Rack is running when we need it [psutil](http://psutil.readthedocs.io/en/latest/#) rocks for this kind of stuff! It's also great for system performance monitoring as well."
   ]
  },
  {
   "cell_type": "code",
   "execution_count": 3,
   "metadata": {},
   "outputs": [],
   "source": [
    "def is_running(process_name: str='Rack') -> bool:\n",
    "    'predicate for OS-level process running, default \"rack\"'\n",
    "    return(len([p for p in psutil.process_iter(attrs=['name']) if process_name in p.info['name']]) > 0)"
   ]
  },
  {
   "cell_type": "markdown",
   "metadata": {},
   "source": [
    "Enumerate shared services for importing notebooks."
   ]
  },
  {
   "cell_type": "code",
   "execution_count": 4,
   "metadata": {},
   "outputs": [
    {
     "name": "stdout",
     "output_type": "stream",
     "text": [
      "\n",
      "rackcli_core imports:\n",
      "    hp(pixels) - convert pixels to hp\n",
      "    is_running('rack') - predicate for OS-level process running, default \"rack\"\n",
      "\n"
     ]
    }
   ],
   "source": [
    "print(f'''\n",
    "rackcli_core imports:\n",
    "    hp(pixels) - {hp.__doc__}\n",
    "    is_running('rack') - {is_running.__doc__}\n",
    "''')"
   ]
  }
 ],
 "metadata": {
  "kernelspec": {
   "display_name": "Python 3",
   "language": "python",
   "name": "python3"
  },
  "language_info": {
   "codemirror_mode": {
    "name": "ipython",
    "version": 3
   },
   "file_extension": ".py",
   "mimetype": "text/x-python",
   "name": "python",
   "nbconvert_exporter": "python",
   "pygments_lexer": "ipython3",
   "version": "3.6.6"
  }
 },
 "nbformat": 4,
 "nbformat_minor": 2
}
