{
 "cells": [
  {
   "cell_type": "markdown",
   "metadata": {},
   "source": [
    "### rackcli screenshot - h4x VCV Rack screenshot module\n",
    "\n",
    "This h4x iterates through all the installed plugin modules and generates screenshots -- easy, huh! Ok, maybe not so easy given the need to run this h4x and Rack at the same time while simultaneously iterating through every plugin module. Lets start with a simple screenshot via [Pillow](https://github.com/python-pillow/Pillow) (PIL).\n",
    "\n",
    "\"Parsing\" out the module from the screenshot is either a trial-and-error exercise, or we can use some machine learning -- lets give both a try, first brute forcing it the old-school way."
   ]
  },
  {
   "cell_type": "code",
   "execution_count": 1,
   "metadata": {},
   "outputs": [
    {
     "name": "stdout",
     "output_type": "stream",
     "text": [
      "\n",
      "rackcli_core imports:\n",
      "    hp(pixels) - convert pixels to hp\n",
      "    is_running('rack') - predicate for OS-level process running, default \"rack\"\n",
      "\n"
     ]
    }
   ],
   "source": [
    "%run rackcli_core.ipynb"
   ]
  },
  {
   "cell_type": "code",
   "execution_count": 2,
   "metadata": {},
   "outputs": [],
   "source": [
    "%matplotlib inline\n",
    "from pprint import pprint as pp\n",
    "from typing import *\n",
    "from pathlib import Path\n",
    "from time import sleep\n",
    "from PIL import Image, ImageGrab, ImageChops\n",
    "from matplotlib.pyplot import imshow \n",
    "import numpy as np\n",
    "import json, mido, datetime"
   ]
  },
  {
   "cell_type": "code",
   "execution_count": 3,
   "metadata": {},
   "outputs": [],
   "source": [
    "rackdir = '/Users/dirkleas/Desktop/h4x/_queue_/vcv/Rack'\n",
    "catalog = json.load(open(rackdir + '/catalog.json'))\n",
    "ci = json.load(open(rackdir + '/catalog.index.json'))"
   ]
  },
  {
   "cell_type": "markdown",
   "metadata": {},
   "source": [
    "Here's a basic screen capture. [Here're](https://stackoverflow.com/questions/26649716/how-to-show-pil-image-in-ipython-notebook) some notes on image display in Jupyter notebook.\n",
    "\n",
    "Here are the critical Rack fodder:\n",
    "\n",
    "1. goal: position candidate module on 2nd row and grab some rail all around\n",
    "1. on my MBP (retina display), glfwGetWindowPos(gWindow, &xpos, &ypos) returns 0,0 fullscreen, 0,22 otherwise\n",
    "1. glfw gPixelRatio = 2\n",
    "1. bounding box is returned as a 4-tuple defining the left, upper, right, and lower pixel coordinate\n",
    "1. ex: audio module: 150x380, 2nd row, 1HP offset ==> 2*moduleWidth+2HP(30) and (moduleHeight / 380)*835\n",
    "\n",
    "Here's some basic imaging plumbing with validation against reference crop."
   ]
  },
  {
   "cell_type": "code",
   "execution_count": 4,
   "metadata": {
    "code_folding": [
     0,
     8,
     13
    ],
    "scrolled": false
   },
   "outputs": [],
   "source": [
    "def screenshot(filename: str, width: int, height: int, inline: bool=False) -> Image:\n",
    "    'screenshot a single plugin version module on rack 2nd row, 1HP offsets, row=380px, optionally display inline'\n",
    "    box = (0, 835, (2*width)+60, 835*int(height/380+1)-15) # (0, 835, 300+60, 835*2-15)\n",
    "    img = ImageGrab.grab(box)\n",
    "    if inline: imshow(np.asarray(img))\n",
    "    img.save(filename, 'PNG')\n",
    "    return(img)\n",
    "\n",
    "def is_equivalent(image1: Image, image2: Image):\n",
    "    'predicate for PIL image comparison'\n",
    "    try: ImageChops.difference(image1, image2); return(True)\n",
    "    except: return(False)\n",
    "\n",
    "def reference_crop(image: Image) -> Image:\n",
    "    'crop to reference size of 1HP x 1 row (0, 835, 30, 1655)'\n",
    "    return(image.crop((0, 835, 30, 1655)))\n",
    "\n",
    "# print(is_equivalent(Image.open(rackdir + '/reference.png'), Image.open(rackdir + '/installer-banner.bmp')))\n",
    "# print(is_equivalent(Image.open(rackdir + '/reference.png'), Image.open(rackdir + '/reference.png')))\n",
    "# print(is_equivalent(Image.open(rackdir + '/reference.png'), Image.open(rackdir + '/reference.png')))\n",
    "# i = str(list(Path(rackdir + '/media').glob('*.png'))[0])\n",
    "# print(is_equivalent(Image.open(rackdir + '/reference.png'), reference_crop(Image.open(i))))\n",
    "# shot(f'{rackdir}/reference.png', -15, 380, True) # reference screenshot"
   ]
  },
  {
   "cell_type": "markdown",
   "metadata": {},
   "source": [
    "The following plumbing assumes some type of MIDI-to-keyboard utility software (e.g. [Keyboard Maestro](https://www.keyboardmaestro.com/main/), et'al) with the following mappings (MIDI note => behavior/keystroke):\n",
    "\n",
    "1. 69 => CTRL+SHIFT+O (Revert toolbar item hotkey)\n",
    "1. 70 => set focus to Rack from Chrome (assumes it's running)\n",
    "1. 71 => set focus to Chrome from Rack (assumes it's running)\n",
    "\n",
    "This can be refactored as soon as Rack supports an extension API for \"main thread\" features."
   ]
  },
  {
   "cell_type": "code",
   "execution_count": 5,
   "metadata": {
    "code_folding": [
     0,
     10,
     20,
     26,
     39,
     44
    ],
    "scrolled": false
   },
   "outputs": [
    {
     "name": "stdout",
     "output_type": "stream",
     "text": [
      "screenshotting plugin modules to ./media, setting focus to VCV Rack now\n",
      "   AudioInterface, Core v0.6.1 skipped, already processed\n",
      "   MIDIToCVInterface, Core v0.6.1 skipped, already processed\n",
      "   QuadMIDIToCVInterface, Core v0.6.1 skipped, already processed\n",
      "   MIDICCToCVInterface, Core v0.6.1 skipped, already processed\n",
      "   MIDITriggerToCVInterface, Core v0.6.1 skipped, already processed\n",
      "   Blank, Core v0.6.1 skipped, already processed\n",
      "   Notes, Core v0.6.1 skipped, already processed\n",
      "   Bogaudio-VCO, Bogaudio v0.6.7 skipped, already processed\n",
      "   Bogaudio-XCO, Bogaudio v0.6.7 skipped, already processed\n",
      "   Bogaudio-Additator, Bogaudio v0.6.7 skipped, already processed\n",
      "all done...\n"
     ]
    }
   ],
   "source": [
    "def module_by_index_iterator(module_iter_item: List, catalog: Dict, catalog_index: Dict) -> Dict:\n",
    "    'return hash-augmented module from catalog via plugin/version/module tuple by index'\n",
    "    try:\n",
    "        p,v,m = module_iter_item\n",
    "        po = ci['plugins'][p][0]\n",
    "        mo, h = ci['modules'][p + ci['sep'] + m]\n",
    "        return({**catalog['plugins'][po]['models'][mo], **{'plugin': p, 'version': v, 'hash': h}})\n",
    "    except: return(None)\n",
    "# pp(module_by_index_iterator(ci['iterator'][6], catalog, ci))\n",
    "\n",
    "def default_positions(modules: List, catalog: Dict, ci: Dict, col_start: int=0, row: int=0) -> List:\n",
    "    'generate positions by catalog widths if available or 1HP offsets otherwise'\n",
    "    if 'width' in catalog['plugins'][0]['models'][0].keys(): # use catalog width offsets\n",
    "        widths = [hp(module_by_index_iterator(m, catalog, ci)['width']) for m in modules]\n",
    "        positions = list(map(list, zip([sum(widths[:i])+col_start for i,w in enumerate(widths)], [row]*len(modules))))\n",
    "    else: positions = list(zip(range(len(modules)), [row]*len(modules)))\n",
    "    return(positions)\n",
    "# pp(default_positions(ci['iterator'][0:5], catalog, ci, row=1))\n",
    "# pp(default_positions(ci['iterator'][0:5], catalog, ci, col_start=1, row=1))\n",
    "\n",
    "def module(pvm: List, pos: List) -> Dict:\n",
    "    'generate subpatch module'\n",
    "    plugin, version, model = pvm\n",
    "    return({'plugin': plugin, 'version': version, 'model': model, 'pos': pos, 'params': [], 'data': {}})\n",
    "# pp(module(ci['iterator'][0], [0,0]))\n",
    "\n",
    "def patcher(modules: List, catalog: Dict, ci: Dict, patch_filename: str, positions: List=[], \n",
    "            col_start: int=0, row: int=0) -> Dict:\n",
    "    'generate patch for specified modules of form [p,v,m] for screenshot or empty patch'\n",
    "    patch = {'version': catalog['applicationVersion'], 'wires': [],\n",
    "             'modules':  list(map(lambda m:module(m[0],m[1]), \n",
    "                                  list(zip(modules, default_positions(modules, catalog, ci, \n",
    "                                                                      col_start=col_start, row=row)))))}\n",
    "    json.dump(patch, open(patch_filename, 'w'), indent=2, ensure_ascii=False)\n",
    "    return(patch)\n",
    "# pp(patcher([], catalog, ci, rackdir + '/patches/eraseme.vcv', row=1))\n",
    "# pp(patcher(ci['iterator'][0:5], catalog, ci, rackdir + '/patches/eraseme.vcv', row=1))\n",
    "# pp(patcher([ci['iterator'][0],], catalog, ci, rackdir + '/patches/eraseme.vcv', col_start=1, row=1))\n",
    "           \n",
    "def file_timestamp(path: Path) -> str:\n",
    "    'generate readable string format timestamp of form YYYYMMDDHHMMSS'\n",
    "    return(datetime.datetime.fromtimestamp(path.stat().st_mtime).strftime('%Y%m%d%H%M%S'))\n",
    "# print(file_timestamp(Path(rackdir + '/catalog.json')))\n",
    "\n",
    "def shotter(ms: List, c: Dict, ci: Dict, rackdir: str, patch_filename: str) -> None:\n",
    "    'screenshot plugin modules with automated/midi triggering refreshes'\n",
    "    print('screenshotting plugin modules to ./media, setting focus to VCV Rack now')\n",
    "    not_running_msg = ' *** error, rack is not running -- possibly crashed, please investigate'\n",
    "    if not is_running(): # consider starting it if not running...\n",
    "        print(not_running_msg)\n",
    "        return\n",
    "    mido.open_output().send(mido.Message('note_on', note=70)); sleep(0.5) # head over to rack\n",
    "    reference_image = screenshot(f'{rackdir}/reference.png', -15, 380, False) # 1HP reference image\n",
    "    try:\n",
    "        for m in ms:\n",
    "            m = module_by_index_iterator(m, c, ci)\n",
    "            screenshot_filename = f\"{rackdir}/media/{m['hash']}.png\"\n",
    "            screenshot_path = Path(screenshot_filename)\n",
    "            if screenshot_path.exists() and file_timestamp(Path(screenshot_filename)) >= ci['timestamp']:\n",
    "                print(f\"   {m['slug']}, {m['plugin']} v{m['version']} skipped, already processed\")\n",
    "                continue\n",
    "            if not is_running():\n",
    "                print(not_running_msg)\n",
    "                break\n",
    "            print(f\" ✓ {m['slug']}, {m['plugin']} v{m['version']}\")\n",
    "            patcher([[m['plugin'], m['version'], m['slug']],], c, ci, patch_filename, col_start=1, row=1)\n",
    "            mido.open_output().send(mido.Message('note_on', note=69)); sleep(0.25) # trigger revert/reOpen\n",
    "            # invoke r4xh4x patch and capture module geometry\n",
    "            img = screenshot(screenshot_filename, m['width'], m['height'])\n",
    "            # compare reference to crop, delete if different and exit w/ rack crash root cause\n",
    "            if not is_equivalent(reference_image, reference_crop(img)):\n",
    "                Path(screenshot_filename).unlink() # delete invalid screenshot\n",
    "                print(' *** error, screenshot for {} differs from reference -- rack probably crashed')\n",
    "                break\n",
    "            sleep(0.25)\n",
    "        patcher([], c, ci, patch_filename) # finish with empty patch\n",
    "        mido.open_output().send(mido.Message('note_on', note=69)); sleep(0.25) # trigger revert/reOpen\n",
    "    except KeyboardInterrupt: pass\n",
    "    print('all done...')\n",
    "    mido.open_output().send(mido.Message('note_on', note=71)) # back to chrome\n",
    "\n",
    "shotter(ci['iterator'][0:10], catalog, ci, rackdir, rackdir + '/patches/_r4xh4x_/_r4xh4x_.vcv')\n",
    "# loot = [m for m in ci['iterator'] if m[0] in ['mscHack', 'moDllz']]\n",
    "# loot = ci['iterator']\n",
    "# shotter(loot, catalog, ci, rackdir, rackdir + '/patches/_h4x.vcv')"
   ]
  },
  {
   "cell_type": "markdown",
   "metadata": {},
   "source": [
    "Prove screenshots got generated by displaying something awesome! ;-)"
   ]
  },
  {
   "cell_type": "code",
   "execution_count": 6,
   "metadata": {},
   "outputs": [
    {
     "data": {
      "image/png": "[encoded data removed]",
      "text/plain": [
       "<PIL.Image.Image image mode=RGBA size=180x410 at 0x119C46C50>"
      ]
     },
     "execution_count": 6,
     "metadata": {},
     "output_type": "execute_result"
    }
   ],
   "source": [
    "hash = module_by_index_iterator(ci['iterator'][0], catalog, ci)['hash']\n",
    "im = Image.open(f\"{rackdir}/media/{hash}.png\")\n",
    "im = im.resize([int(0.5 * s) for s in im.size])\n",
    "im"
   ]
  }
 ],
 "metadata": {
  "kernelspec": {
   "display_name": "Python 3",
   "language": "python",
   "name": "python3"
  },
  "language_info": {
   "codemirror_mode": {
    "name": "ipython",
    "version": 3
   },
   "file_extension": ".py",
   "mimetype": "text/x-python",
   "name": "python",
   "nbconvert_exporter": "python",
   "pygments_lexer": "ipython3",
   "version": "3.6.6"
  }
 },
 "nbformat": 4,
 "nbformat_minor": 2
}
