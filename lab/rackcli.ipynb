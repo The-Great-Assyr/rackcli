{
 "cells": [
  {
   "cell_type": "markdown",
   "metadata": {},
   "source": [
    "### rackcli - h4x VCV Rack via command line\n",
    "\n",
    "This is a collection of research discussions/prototypes for icubating ideas and features for [VCV Rack](https://vcvrack.com/) under the umbrella of [rackcli](https://github.com/dirkleas/rackcli). These presentations assume metadata extracted via my [VCV Rack fork](https://github.com/dirkleas/Rack) or using my plugin [DLwigglz r4kH4x](https://github.com/dirkleas/DLwigglz) along with an upcoming webservice [r4xH4x.cloud]() accessed through `rackcli`.  There's also series of companion \n",
    "[videos](https://www.youtube.com/channel/UCv-mq6lyycCbvbQiZclik7Q)!\n",
    "\n",
    "Over time, this collection will grow to support a number of areas, ranging from simple ideas like patch module slicing through more sophisticated ideas like plugin/module analytics and patch construction using machine learning. Research such as this is plausible give that VCV Rack patches are stored as JSON text files -- the only \"extras\" are adding some extra metadata for things like module widths and a reference catalog of all your installed plugin modules (of course that includes width values too).\n",
    "\n",
    "That last little requirement for the extra metadata (e.g. width) is most easily accomplished usig a [fork I made](https://github.com/dirkleas/Rack) of the official VCV Rack project as it introduced a few minor changes to augment the existing patch save functionality width support, and a new function accessible via the `File.Catalog` menu to create a JSON catalog for all your installed plugins and their modules. This file is stored in your forked VCV Rack build folder. Another option not requiring using a fork is to use my plugin [DLwigglz r4xH4x](https://github.com/dirkleas/DLwigglz) module and `rackcli` to fill in the metadata holes. Here's an example fragment from the `catalog.json` recently generated from my installed plugins sourced from the Plugin Manager, and and other online sources (this is a very small fragment as I've typically got about 100 plugins installed) -- notice the `\"width\": 195` for the *AnimatedCircuits_Noises ACNoises* below:\n",
    "\n",
    "```\n",
    "{\n",
    "  \"applicationName\": \"VCV Rack\",\n",
    "  \"applicationVersion\": \"0.6.1\",\n",
    "  \"apiHost\": \"https://api.vcvrack.com\",\n",
    "  \"width\": 1440,\n",
    "  \"height\": 878,\n",
    "  \"token\": \"\",\n",
    "  \"path\": \"/Users/dirkleas/Desktop/h4x/_queue_/vcv/Rack\",\n",
    "  \"pluginCount\": 91,\n",
    "  \"moduleCount\": 2,\n",
    "  \"plugins\": [\n",
    "\n",
    "...\n",
    "\n",
    "    {\n",
    "      \"slug\": \"AnimatedCircuits_Noises\",\n",
    "      \"path\": \"./plugins/AnimatedCircuits_Noises\",\n",
    "      \"version\": \"0.6.0\",\n",
    "      \"modelCount\": 1,\n",
    "      \"models\": [\n",
    "        {\n",
    "          \"slug\": \"ACNoises\",\n",
    "          \"name\": \"Noises\",\n",
    "          \"author\": \"Animated Circuits\",\n",
    "          \"tags\": [\n",
    "            \"Noise\",\n",
    "            \"Sample and Hold\",\n",
    "            \"Slew Limiter\",\n",
    "            \"Random\",\n",
    "            \"LFO\"\n",
    "          ],\n",
    "          \"width\": 195\n",
    "        }\n",
    "      ]\n",
    "    }\n",
    "  ]\n",
    "}\n",
    "```\n",
    "\n",
    "Building or installing a VCV Rack fork is hard and will mess up my workflow, right?! No, not really. Quite of few rackheads have built a local fork of VCV Rack so they can compile plugin modules from source code when they're either not through the official Plugin Manager workflow, or they're distributed directly by the developers (typically via [Github](https://github.com/topics/vcvrack).\n",
    "\n",
    "There are two options for you to live happily with my VCV Rack fork: 1) use VCV Rack fork on an as-needed basis, or 2) use the fork most of the time and VCV Rack when you wish to check the Package Manager for updates or new plugins. Here's how each of those workflows might work for you.\n",
    "\n",
    "##### VCV Rack Fork Centric\n",
    "\n",
    "1. one time only: create symbolic links from your VCV Rack plugins folder items in your VCV Rack Fork plugins folder -- this will allow you to use all your plugins from either VCV Rack or VCV Rack Fork\n",
    "1. if you wish to check for Plugin Manager updates, run VCV Rack and optionally update your plugins via `Update plugins` button and automatically exit\n",
    "1. run VCV Rack Fork as usual and enjoy your fresh `catalog.json`\n",
    "\n",
    "\n",
    "<img src=\"https://user-images.githubusercontent.com/52076/39953295-911a6a5c-5576-11e8-965b-0f1743ff2cbd.png\" alt=\"DLwigglz h4xH4x\" style=\"width: 15%; height: 15%; padding: 0 35px; float: right;\"/>\n",
    "\n",
    "##### VCV Rack Centric (\"don't need no stink'n forkz!\")\n",
    "\n",
    "1. run VCV Rack and optionally update your plugins via `Update plugins` button and automatically exit\n",
    "1. if you update your plugins, add the module `r4xH4x` from the plugin `DLwigglz` and click the `Catalog (partial)` button\n",
    "1. run `rackcli --cloud catalog.partial.json` to load missing metadata -- you'll get feedback in the VCV Rack log `log.txt` identifying any plugins that haven't been cataloged by the community yet, **CURRENTLY WORK-IN-PROCESS!**\n",
    "1. run VCV Rack as usual and enjoy your fresh `catalog.json`\n",
    "\n",
    "See, either option adds minimal overhead to your patching workflow, but allows you to take advantage of the extra metadata for exciting reasons you'll soon appreciate. Since the fork is based on VCV Rack, all your patches should work the same -- though there are some additional usability features in the fork that provide a smoother, more flexible patchig workflow.\n",
    "\n",
    "---\n",
    "\n",
    "*Now for the pseudo-warning: YMMV! I've found both my fork and plugin services are reasonably stable with plugins from the offical VCV Rack Plugin Manager, but sometimes I have issues with certain modules cleaning up after themselves (on my Mac, that's some of the fancier modules doing cool stuff dealing with MIDI for example). This even more common with bleeding-edge modules that I compile myself. As I identify such plugin modules, I'll just drag their plugin out of my `plugins` folder, and only install it when I need it. I find that when I start automating things/hacking my catalog of plugin modules, I see more because I use more. You get the picture. Just be aware, and enjoy your newfound superpowers!*\n",
    "\n",
    "---\n",
    "\n",
    "\n",
    "PS: if using [Jupyter](http://jupyter.org/) notebooks and data science/machine learning platforms like [Anaconda](https://www.anaconda.com/download/#macos) are new to you, there's tons of great learning materials out there -- dig in and enjoy your new superpowers!"
   ]
  },
  {
   "cell_type": "markdown",
   "metadata": {},
   "source": [
    "Here's an example of what the `catalog.json` and augmented patch files might look like. Sample output has been truncated for covenience -- this was generated from my plugins and I've purchased almost every official module and build/installed many others, last count, almost 100 plugins!"
   ]
  },
  {
   "cell_type": "code",
   "execution_count": 1,
   "metadata": {},
   "outputs": [
    {
     "name": "stdout",
     "output_type": "stream",
     "text": [
      "\n",
      "rackcli_core imports:\n",
      "    hp(pixels) - convert pixels to hp\n",
      "    is_running('rack') - predicate for OS-level process running, default \"rack\"\n",
      "\n"
     ]
    }
   ],
   "source": [
    "%run rackcli_core.ipynb"
   ]
  },
  {
   "cell_type": "code",
   "execution_count": 2,
   "metadata": {},
   "outputs": [],
   "source": [
    "from pprint import pprint as pp\n",
    "from typing import *\n",
    "from itertools import *\n",
    "from time import sleep\n",
    "import json, copy, mido"
   ]
  },
  {
   "cell_type": "code",
   "execution_count": 3,
   "metadata": {
    "scrolled": false
   },
   "outputs": [],
   "source": [
    "rackdir = '/Users/dirkleas/Desktop/h4x/_queue_/vcv/Rack' # update to reference your VCV Rack folder\n",
    "catalog = json.load(open(rackdir + '/catalog.json')) # generated via File.Catalog\n",
    "\n",
    "def plugin_module(pslug: str, version: str, mslug: str, plugins: Dict) -> Dict:\n",
    "    'get plugin module or None if non-existent, no version needed?'\n",
    "    try:\n",
    "        p = list(filter(lambda p: p['slug'] == pslug and p['version'] == version, plugins))[0]\n",
    "        m = list(filter(lambda m: m['slug'] == mslug, p['models']))[0]\n",
    "        return({**m, **{'plugin': p['slug'], 'version': p['version']}})\n",
    "    except: return(None)\n",
    "\n",
    "# plugin_module('Core', '0.6.1', 'Notes', catalog['plugins'])\n",
    "# patch\n",
    "# catalog"
   ]
  },
  {
   "cell_type": "markdown",
   "metadata": {},
   "source": [
    "What's something useful we can do with this catalog data? How generating documentationn patches for all your plugins so we can see every single module you've got installed?!?! You'll notice that the width values stored in the catalog are in pixels and the position data stored in patches is in [HP](https://en.wikipedia.org/wiki/Horizontal_pitch) (horizontal pitch), so we'll want to do some simple math to translate back and forth when doing layout stuff. For fun, I'll automate iterating through the generated plugin module patches using MIDI and the awesome keyboard/mouse automation software [Keyboard Maestro](https://www.keyboardmaestro.com/main/) for MacOS (similar tools exist for Windows and Linux, just look for keyboard support.\n",
    "\n",
    "---\n",
    "\n",
    "*Warning (again), this will iterate through EVERY plugin module, so there might be some modules that crash VCV Rack that you've never actually loaded before -- just restart Rack and continue if this happens (don't forget to report bugs to the offending module developer so they can fix any issues).*"
   ]
  },
  {
   "cell_type": "code",
   "execution_count": 4,
   "metadata": {
    "code_folding": [
     6,
     31,
     36
    ],
    "scrolled": false
   },
   "outputs": [],
   "source": [
    "_rails_hp = hp(catalog['width'])\n",
    "_patch = {'version': catalog['applicationVersion'], 'modules': [], 'wires': []}\n",
    "_module = {'plugin': '', 'version': '', 'model': '', 'pos': [0, 0], 'params': [], 'data': {}} # pos[col,row]\n",
    "_note = {\"plugin\": \"Core\", \"version\": plugin_module('Core', '0.6.1', 'Notes', catalog['plugins'])['version'], \n",
    "         \"model\": \"Notes\", \"pos\": [0, 0], \"width\": 240, \"params\": [], \"text\": \"\"}\n",
    "\n",
    "def dox(plugins: List, limit: int, skinny: bool=True, pluginFilter: Callable[[Dict, ], bool]=None, \n",
    "        modelFilter: Callable[[Dict, ], bool]=None) -> Dict:\n",
    "    'generate dox patch from specified list of plugins [(pslug, pversion, mslug), ]'\n",
    "    row = 0; col = 0; d = copy.deepcopy(_patch)\n",
    "    for p in plugins:\n",
    "        if not p: continue # ill-formed/incomplete plugin\n",
    "        if pluginFilter and not pluginFilter(p): continue\n",
    "        note = copy.deepcopy(_note) # throw in a Core Notes module as table-of-contents\n",
    "        note['pos'][1] = row\n",
    "        note['text'] = f\"{p['slug']}, v{p['version']}\\n\\n {p['modelCount']} modules\\n\\n\"\n",
    "        note['text'] += ''.join([m['name'] + ', ' for m in p['models']])[:-2]\n",
    "        d['modules'].append(note)\n",
    "        col += hp(note['width'])\n",
    "        for m in p['models']:\n",
    "            if modelFilter and not modelFilter(m): continue\n",
    "            if skinny and (col + hp(m['width']) >= _rails_hp): row += 1; col = 5 # skinny wrap\n",
    "            module = copy.deepcopy(_module)\n",
    "            module['plugin'] = p['slug']; module['version'] = p['version']\n",
    "            module['model'] = m['slug']; module['pos'] = [col, row]; module['width'] = m['width']\n",
    "            d['modules'].append(module)\n",
    "            col += hp(m['width'])\n",
    "        row += 1; col = 0\n",
    "    open(rackdir + '/dox.vcv', 'w').write(json.dumps(d))\n",
    "    return(d)\n",
    "\n",
    "def chunks(iterable: List, n: int, fillvalue: bool=None) -> List[List[Dict]]:\n",
    "    'chunk an iterable into n chunks with optional filler'\n",
    "    args = [iter(iterable)] * n\n",
    "    return zip_longest(*args, fillvalue=fillvalue)\n",
    "\n",
    "def doxer(chunk: int=5, pause: int=10) -> None:\n",
    "    'iterate through catalog in chunks with delay in seconds with midi triggering refreshes'\n",
    "    try:\n",
    "        print('File.reOpen in my VCV Rack fork or File.Revert in VCV Rack to view latest dox ' +\n",
    "              'when you hear system \"bell\" ding,\\n  ESC+i+i to cancel from your Jupyter notebook...')\n",
    "        sleep(pause)\n",
    "        for c in chunks(catalog['plugins'], chunk): # dox plugins a few at a time, adjust per your system specs\n",
    "            dox(c, 200, True);\n",
    "            mido.open_output().send(mido.Message('note_on', note=69))\n",
    "            sleep(pause)\n",
    "    except KeyboardInterrupt: pass\n",
    "    print('all done...')\n",
    "\n",
    "# doxer(pause=7) # auto-nav, ESC+i+i to cancel early\n",
    "# dox(catalog['plugins'], 200, modelFilter=lambda m: 'Sequencer' in m['tags']) # tag predicate\n",
    "# dox([p for p in catalog['plugins'] if p['slug'][:4] in ('mtsc', 'Erra', 'moDl')], 200, True)"
   ]
  }
 ],
 "metadata": {
  "kernelspec": {
   "display_name": "Python 3",
   "language": "python",
   "name": "python3"
  },
  "language_info": {
   "codemirror_mode": {
    "name": "ipython",
    "version": 3
   },
   "file_extension": ".py",
   "mimetype": "text/x-python",
   "name": "python",
   "nbconvert_exporter": "python",
   "pygments_lexer": "ipython3",
   "version": "3.6.6"
  }
 },
 "nbformat": 4,
 "nbformat_minor": 2
}
